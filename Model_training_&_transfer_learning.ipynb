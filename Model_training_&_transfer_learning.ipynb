{
 "cells": [
  {
   "cell_type": "code",
   "execution_count": null,
   "id": "9133f27a",
   "metadata": {
    "scrolled": true
   },
   "outputs": [],
   "source": [
    "%pip install -U LSTM-SAM-TL"
   ]
  },
  {
   "cell_type": "code",
   "execution_count": null,
   "id": "82ead552",
   "metadata": {},
   "outputs": [],
   "source": []
  },
  {
   "cell_type": "code",
   "execution_count": null,
   "id": "81bca5b0",
   "metadata": {
    "scrolled": false
   },
   "outputs": [],
   "source": [
    "# Train-Test model\n",
    "from LSTM_SAM_TL import TT_model\n",
    "\n",
    "res1 = TT_model(\n",
    "    \"ATLNJ1981-2022.csv\",\n",
    "    lookback=24,               \n",
    "    epochs=2,\n",
    "    batch_size=512,\n",
    "    validation_split=0.3,\n",
    "    early_stopping=2,\n",
    "    max_trials=2,\n",
    "    loss=\"mae\",\n",
    "    seed=42,\n",
    "    model_name=\"ATL\",       \n",
    "    verbose=1\n",
    ")\n",
    "\n"
   ]
  },
  {
   "cell_type": "code",
   "execution_count": null,
   "id": "947d952b",
   "metadata": {},
   "outputs": [],
   "source": []
  },
  {
   "cell_type": "code",
   "execution_count": null,
   "id": "779634b9",
   "metadata": {},
   "outputs": [],
   "source": [
    "# Time series cross-validation model\n",
    "from LSTM_SAM_TL import TSCV_model\n",
    "\n",
    "res2 = TSCV_model(\n",
    "    \"ATLNJ1981-2022.csv\",\n",
    "    lookback=24,\n",
    "    n_splits=3,\n",
    "    epochs=2,\n",
    "    batch_size=512,\n",
    "    validation_split=0.2,\n",
    "    early_stopping=2,\n",
    "    max_trials=2,\n",
    "    loss=\"mse\",\n",
    "    seed=42,\n",
    "    model_name=\"ATL\",\n",
    "    verbose=1\n",
    ")\n"
   ]
  },
  {
   "cell_type": "code",
   "execution_count": null,
   "id": "a4711541",
   "metadata": {},
   "outputs": [],
   "source": []
  },
  {
   "cell_type": "code",
   "execution_count": null,
   "id": "df4149b4",
   "metadata": {},
   "outputs": [],
   "source": [
    "# Transfer learning test\n",
    "from LSTM_SAM_TL import transfer_learning_test\n",
    "\n",
    "# Plot the exact time window you want:\n",
    "result1 = transfer_learning_test(\n",
    "    \"sandy_1992.csv\",\n",
    "    verbose=1,\n",
    "    start_date=\"1992-12-08\",\n",
    "    end_date=\"1992-12-14\"\n",
    ")\n"
   ]
  },
  {
   "cell_type": "code",
   "execution_count": null,
   "id": "f89c42d9",
   "metadata": {},
   "outputs": [],
   "source": []
  },
  {
   "cell_type": "code",
   "execution_count": null,
   "id": "5184fc17",
   "metadata": {},
   "outputs": [],
   "source": [
    "# Transfer learning predict\n",
    "from LSTM_SAM_TL import transfer_learning_predict\n",
    "\n",
    "# Plot the exact time window you want:\n",
    "result2 = transfer_learning_predict(\n",
    "    \"sandy_1992.csv\",\n",
    "    verbose=1,\n",
    "    start_date=\"1992-12-06\",\n",
    "    end_date=\"1992-12-16\"\n",
    ")\n"
   ]
  },
  {
   "cell_type": "code",
   "execution_count": null,
   "id": "d4c49445",
   "metadata": {},
   "outputs": [],
   "source": []
  }
 ],
 "metadata": {
  "kernelspec": {
   "display_name": "Python 3 (ipykernel)",
   "language": "python",
   "name": "python3"
  },
  "language_info": {
   "codemirror_mode": {
    "name": "ipython",
    "version": 3
   },
   "file_extension": ".py",
   "mimetype": "text/x-python",
   "name": "python",
   "nbconvert_exporter": "python",
   "pygments_lexer": "ipython3",
   "version": "3.10.9"
  }
 },
 "nbformat": 4,
 "nbformat_minor": 5
}
